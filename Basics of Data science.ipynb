{
 "cells": [
  {
   "cell_type": "markdown",
   "id": "88a12a7d",
   "metadata": {},
   "source": [
    "<b>BASICS OF Data science<b/>\n"
   ]
  },
  {
   "cell_type": "markdown",
   "id": "9204123a",
   "metadata": {},
   "source": [
    "__Swapnil Landge__"
   ]
  },
  {
   "cell_type": "markdown",
   "id": "f0567726",
   "metadata": {},
   "source": [
    "I am interested in data science because I love telling stories with data and using data to help bring that data to life.I love helping others. In data science that could be helping a business understand its customers or improving the way it uses its customer data."
   ]
  },
  {
   "cell_type": "markdown",
   "id": "44076478",
   "metadata": {},
   "source": [
    "__list of data science languages__\n",
    "- Python\n",
    "- SQL\n",
    "- R\n",
    "- Juila\n",
    "- Java\n",
    "- JavaScript\n",
    "- Scala\n",
    "- GO\n",
    "- MATLAB"
   ]
  },
  {
   "cell_type": "markdown",
   "id": "f438e673",
   "metadata": {},
   "source": [
    "__list of data science libraries__\n",
    "- TensorFlow\n",
    "- NumPy\n",
    "- Pandas\n",
    "- SciPy\n",
    "- Matplotlib\n",
    "- Keras\n",
    "- SciKit-Learn\n",
    "- PyTorch\n",
    "- Scrapy\n",
    "- BeautifulSoup"
   ]
  },
  {
   "cell_type": "markdown",
   "id": "b6e051a0",
   "metadata": {},
   "source": [
    "|__list of data science Tool__|\n",
    "|-------------------------------------------|\n",
    "|Apache Hadoop|\n",
    "|Tableau|\n",
    "|TensorFlow|\n",
    "|BigML|\n",
    "|Knime|\n",
    "|Power BI|\n",
    "|IBM WATSON|\n",
    "|Jupyter|\n",
    "\n"
   ]
  },
  {
   "cell_type": "markdown",
   "id": "714f3966",
   "metadata": {},
   "source": [
    "__Arithmetic expression examples__\n"
   ]
  },
  {
   "cell_type": "code",
   "execution_count": 20,
   "id": "0e5586ad",
   "metadata": {},
   "outputs": [
    {
     "name": "stdout",
     "output_type": "stream",
     "text": [
      "-1\n"
     ]
    }
   ],
   "source": [
    "a=5\n",
    "b=6\n",
    "print(a-b)"
   ]
  },
  {
   "cell_type": "markdown",
   "id": "ca99f184",
   "metadata": {},
   "source": [
    "__A code cell to multiply and add numbers__"
   ]
  },
  {
   "cell_type": "code",
   "execution_count": 21,
   "id": "d86a81a4",
   "metadata": {},
   "outputs": [
    {
     "name": "stdout",
     "output_type": "stream",
     "text": [
      "30\n",
      "11\n"
     ]
    }
   ],
   "source": [
    "a= 5\n",
    "b=6\n",
    "Multiplication = a*b\n",
    "Addition =a+b\n",
    "print(Multiplication)\n",
    "print(Addition)"
   ]
  },
  {
   "cell_type": "markdown",
   "id": "a3a1477b",
   "metadata": {},
   "source": [
    "__A code cell to convert minutes to hours__\n"
   ]
  },
  {
   "cell_type": "code",
   "execution_count": 19,
   "id": "c09aec75",
   "metadata": {},
   "outputs": [
    {
     "name": "stdout",
     "output_type": "stream",
     "text": [
      "Enter minutes:60\n",
      "1.0\n"
     ]
    }
   ],
   "source": [
    "A= int(input(\"Enter minutes:\"))\n",
    "hours=A/60\n",
    "print(hours)"
   ]
  },
  {
   "cell_type": "markdown",
   "id": "50e71ff0",
   "metadata": {},
   "source": [
    "__list Objectives__\n",
    "- Collecting data\n",
    "- Processing data\n",
    "- Exploring and visualizing data\n",
    "- Analyzing (data) and/or applying machine learning (to data)\n",
    "- Deciding based on acquired insights\n"
   ]
  },
  {
   "cell_type": "markdown",
   "id": "a227409c",
   "metadata": {},
   "source": [
    "_Swapnil Landge_"
   ]
  },
  {
   "cell_type": "code",
   "execution_count": null,
   "id": "4f31d861",
   "metadata": {},
   "outputs": [],
   "source": []
  }
 ],
 "metadata": {
  "kernelspec": {
   "display_name": "Python 3 (ipykernel)",
   "language": "python",
   "name": "python3"
  },
  "language_info": {
   "codemirror_mode": {
    "name": "ipython",
    "version": 3
   },
   "file_extension": ".py",
   "mimetype": "text/x-python",
   "name": "python",
   "nbconvert_exporter": "python",
   "pygments_lexer": "ipython3",
   "version": "3.9.7"
  }
 },
 "nbformat": 4,
 "nbformat_minor": 5
}
